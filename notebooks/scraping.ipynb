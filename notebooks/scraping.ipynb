{
 "cells": [
  {
   "cell_type": "code",
   "execution_count": 5,
   "metadata": {},
   "outputs": [],
   "source": [
    "from selenium import webdriver\n",
    "from selenium.webdriver.common.by import By\n",
    "from selenium.common.exceptions import NoSuchElementException\n"
   ]
  },
  {
   "cell_type": "code",
   "execution_count": 16,
   "metadata": {},
   "outputs": [
    {
     "name": "stderr",
     "output_type": "stream",
     "text": [
      "C:\\Users\\nagpa\\AppData\\Local\\Temp\\ipykernel_22508\\3756863956.py:3: DeprecationWarning: executable_path has been deprecated, please pass in a Service object\n",
      "  driver = webdriver.Chrome(executable_path=driver_path)\n"
     ]
    }
   ],
   "source": [
    "site = \"https://www.iitg.ac.in/iitg_faculty_all\"\n",
    "driver_path = \"C:/Users/nagpa/chromedriver.exe\"\n",
    "driver = webdriver.Chrome(executable_path=driver_path)\n",
    "driver.get(site)"
   ]
  },
  {
   "cell_type": "code",
   "execution_count": 7,
   "metadata": {},
   "outputs": [],
   "source": [
    "\n",
    "links = []\n",
    "\n",
    "idx = 2 \n",
    "\n",
    "while True:\n",
    "    xpath = f'//*[@id=\"result\"]/div[{idx}]/div/div/div[2]/div/h3/a'\n",
    "    try:\n",
    "        element = driver.find_element(By.XPATH, xpath)\n",
    "        link = element.get_attribute(\"href\")\n",
    "        links.append(link)\n",
    "        idx += 1\n",
    "    except NoSuchElementException:\n",
    "        break"
   ]
  },
  {
   "cell_type": "code",
   "execution_count": 8,
   "metadata": {},
   "outputs": [
    {
     "data": {
      "text/plain": [
       "457"
      ]
     },
     "execution_count": 8,
     "metadata": {},
     "output_type": "execute_result"
    }
   ],
   "source": [
    "len(links)"
   ]
  },
  {
   "cell_type": "code",
   "execution_count": 9,
   "metadata": {},
   "outputs": [
    {
     "data": {
      "text/plain": [
       "'https://www.iitg.ac.in/iitg_faculty_details?name=A.K.-Das&fac=akMrN1Vmc0NyQXNLNk8yTWI5Ujd6QT09'"
      ]
     },
     "execution_count": 9,
     "metadata": {},
     "output_type": "execute_result"
    }
   ],
   "source": [
    "links[0]"
   ]
  },
  {
   "cell_type": "code",
   "execution_count": 18,
   "metadata": {},
   "outputs": [],
   "source": [
    "for link in links:\n",
    "    driver.get(link)\n",
    "    div_xpath = '//*[@id=\"wrapper\"]/div/section[2]/div/div/div/div[2]'\n",
    "\n",
    "    try:\n",
    "        div_element = driver.find_element(By.XPATH, div_xpath)\n",
    "        div_text = div_element.text\n",
    "        file_name = '_'.join(div_text.split('\\n')[0].split(' '))\n",
    "        with open(f'data/{file_name}.txt', 'w') as f:\n",
    "            f.write(div_text)\n",
    "    except Exception as e:\n",
    "        print(f\"Error extracting text from the div: {str(e)}\")"
   ]
  }
 ],
 "metadata": {
  "kernelspec": {
   "display_name": "myenv",
   "language": "python",
   "name": "python3"
  },
  "language_info": {
   "codemirror_mode": {
    "name": "ipython",
    "version": 3
   },
   "file_extension": ".py",
   "mimetype": "text/x-python",
   "name": "python",
   "nbconvert_exporter": "python",
   "pygments_lexer": "ipython3",
   "version": "3.9.13"
  }
 },
 "nbformat": 4,
 "nbformat_minor": 2
}
